{
 "cells": [
  {
   "cell_type": "code",
   "execution_count": 12,
   "metadata": {},
   "outputs": [],
   "source": [
    "import os"
   ]
  },
  {
   "cell_type": "code",
   "execution_count": 1,
   "metadata": {},
   "outputs": [],
   "source": [
    "import json\n",
    "import pandas as pd\n",
    "import glob\n",
    "import re\n"
   ]
  },
  {
   "cell_type": "code",
   "execution_count": 2,
   "metadata": {},
   "outputs": [],
   "source": [
    "# Schema JSON File \n",
    "schema_file_path = r'data\\retail_db\\schemas.json'\n",
    "\n",
    "with open(schema_file_path, 'r') as schema_file:\n",
    "    schemas = json.load(schema_file)"
   ]
  },
  {
   "cell_type": "code",
   "execution_count": 3,
   "metadata": {},
   "outputs": [],
   "source": [
    "# Function - Get Column Level Details \n",
    "def get_column_name(schema, category, sort_key='column_position'):\n",
    "    \"\"\"This Function helps in getting column names sorted in order of column_position.\n",
    "    Args:\n",
    "        schema: json data loaded from schema.json file\n",
    "        category: name of table (e.g. orders, customers etc.)\n",
    "        sort_key: column_position is the default sort key used to sort the columns\n",
    "    Returns: List of Column Names\n",
    "    \"\"\"\n",
    "    try:\n",
    "        if category in schema.keys():\n",
    "            category_data = schema[category]\n",
    "            columns = sorted(category_data, key=lambda col: col[sort_key])\n",
    "            return [column['column_name'] for column in columns] \n",
    "        else:\n",
    "            return None\n",
    "    except Exception as ex:\n",
    "        print(ex)"
   ]
  },
  {
   "cell_type": "code",
   "execution_count": 5,
   "metadata": {},
   "outputs": [],
   "source": [
    "src_file_names  = glob.glob('data/retail_db/*/part-*')"
   ]
  },
  {
   "cell_type": "code",
   "execution_count": 6,
   "metadata": {},
   "outputs": [],
   "source": [
    "sample_text = 'b/f\\\\s\\\\n'"
   ]
  },
  {
   "cell_type": "code",
   "execution_count": 7,
   "metadata": {},
   "outputs": [
    {
     "data": {
      "text/plain": [
       "['b', 'f\\\\s\\\\n']"
      ]
     },
     "execution_count": 7,
     "metadata": {},
     "output_type": "execute_result"
    }
   ],
   "source": [
    "sample_text.split('/')"
   ]
  },
  {
   "cell_type": "code",
   "execution_count": 8,
   "metadata": {},
   "outputs": [
    {
     "data": {
      "text/plain": [
       "['b/f', 's', 'n']"
      ]
     },
     "execution_count": 8,
     "metadata": {},
     "output_type": "execute_result"
    }
   ],
   "source": [
    "sample_text.split('\\\\')"
   ]
  },
  {
   "cell_type": "code",
   "execution_count": 9,
   "metadata": {},
   "outputs": [
    {
     "data": {
      "text/plain": [
       "['b', 'f', 's', 'n']"
      ]
     },
     "execution_count": 9,
     "metadata": {},
     "output_type": "execute_result"
    }
   ],
   "source": [
    "re.split('[/\\\\\\]', sample_text)"
   ]
  },
  {
   "cell_type": "code",
   "execution_count": 10,
   "metadata": {},
   "outputs": [
    {
     "name": "stdout",
     "output_type": "stream",
     "text": [
      "['data', 'retail_db', 'categories', 'part-00000']\n",
      "['data', 'retail_db', 'customers', 'part-00000']\n",
      "['data', 'retail_db', 'departments', 'part-00000']\n",
      "['data', 'retail_db', 'orders', 'part-00000']\n",
      "['data', 'retail_db', 'order_items', 'part-00000']\n",
      "['data', 'retail_db', 'products', 'part-00000']\n"
     ]
    }
   ],
   "source": [
    "for file in src_file_names:\n",
    "    print(re.split('[/\\\\\\]', file))"
   ]
  },
  {
   "cell_type": "code",
   "execution_count": 11,
   "metadata": {},
   "outputs": [
    {
     "name": "stdout",
     "output_type": "stream",
     "text": [
      "Shape of categories is (58, 3)\n",
      "Shape of customers is (12435, 9)\n",
      "Shape of departments is (6, 2)\n",
      "Shape of orders is (68883, 4)\n",
      "Shape of order_items is (172198, 6)\n",
      "Shape of products is (1345, 6)\n"
     ]
    }
   ],
   "source": [
    "for file in src_file_names:\n",
    "    file_splitted = re.split('[/\\\\\\]', file)\n",
    "    file_name = file_splitted[-2]\n",
    "    file_columns = get_column_name(schema=schemas, category=file_name)\n",
    "    df = pd.read_csv(filepath_or_buffer=file, names=file_columns)\n",
    "    print(f'Shape of {file_name} is {df.shape}')"
   ]
  },
  {
   "cell_type": "code",
   "execution_count": 41,
   "metadata": {},
   "outputs": [],
   "source": [
    "def list_files(src_location, pattern=None):\n",
    "    if pattern:\n",
    "        src_location = f'{src_location}/{pattern}'\n",
    "        \n",
    "    return glob.glob(src_location, recursive=True)"
   ]
  },
  {
   "cell_type": "code",
   "execution_count": 39,
   "metadata": {},
   "outputs": [],
   "source": [
    "def get_filename_from_path(file_path, pattern='[/\\\\\\]'):\n",
    "    splitted_file_path = re.split('[/\\\\\\]', file_path)\n",
    "    file_name = splitted_file_path[-2]\n",
    "    return file_name"
   ]
  },
  {
   "cell_type": "code",
   "execution_count": 26,
   "metadata": {},
   "outputs": [],
   "source": [
    "def read_df(file_path, column_names):\n",
    "    df = pd.read_csv(filepath_or_buffer=file_path, names=column_names)\n",
    "    return df"
   ]
  },
  {
   "cell_type": "code",
   "execution_count": 22,
   "metadata": {},
   "outputs": [],
   "source": [
    "def create_target_folder(folder_name=None):\n",
    "    target_base_path = r'data/structured/'\n",
    "    if folder_name is None:\n",
    "        folder_path = target_base_path\n",
    "    else:\n",
    "        folder_path = f'{target_base_path}/{folder_name}'\n",
    "    return os.makedirs(name=target_base_path, exist_ok=True)"
   ]
  },
  {
   "cell_type": "code",
   "execution_count": 47,
   "metadata": {},
   "outputs": [],
   "source": [
    "def generate_target_destination(tgt_base_dir, file_name, extension):\n",
    "    target_base_path = tgt_base_dir\n",
    "    file_name = f'{target_base_path}/{file_name}.{extension}'\n",
    "    return file_name"
   ]
  },
  {
   "cell_type": "code",
   "execution_count": 29,
   "metadata": {},
   "outputs": [],
   "source": [
    "def generate_json_doc(df, json_file_path):\n",
    "    try:\n",
    "        df.to_json(\n",
    "            json_file_path,\n",
    "            orient='records',\n",
    "            lines=True\n",
    "        )\n",
    "        return True\n",
    "    except Exception as ex:\n",
    "        return False"
   ]
  },
  {
   "cell_type": "code",
   "execution_count": 40,
   "metadata": {},
   "outputs": [
    {
     "name": "stdout",
     "output_type": "stream",
     "text": [
      "data/retail_db\\categories\\part-00000\n",
      "categories.json created!\n",
      "data/retail_db\\customers\\part-00000\n",
      "customers.json created!\n",
      "data/retail_db\\departments\\part-00000\n",
      "departments.json created!\n",
      "data/retail_db\\orders\\part-00000\n",
      "orders.json created!\n",
      "data/retail_db\\order_items\\part-00000\n",
      "order_items.json created!\n",
      "data/retail_db\\products\\part-00000\n",
      "products.json created!\n"
     ]
    }
   ],
   "source": [
    "for file_path in src_file_names:\n",
    "\n",
    "    print(file_path)\n",
    "    \n",
    "    # FILE NAME\n",
    "    file_name = get_filename_from_path(file_path)\n",
    "\n",
    "    # COLUMNS\n",
    "    column_names = get_column_name(schemas, file_name)\n",
    "\n",
    "    # TO DF\n",
    "    df = read_df(file_path, column_names)\n",
    "\n",
    "    # TARGET FILE LOC\n",
    "    json_file_path = generate_target_destination(file_name, 'json')\n",
    "\n",
    "    # DF TO JSON\n",
    "    status = generate_json_doc(df, json_file_path)\n",
    "\n",
    "    if status:\n",
    "        print(f'{file_name}.json created!')"
   ]
  },
  {
   "cell_type": "code",
   "execution_count": 48,
   "metadata": {},
   "outputs": [],
   "source": [
    "def csv_to_json_converter(src_base_dir, tgt_bae_dir, ds_name):\n",
    "    \n",
    "    schemas = json.load(open(f'{src_base_dir}/schemas.json'))\n",
    "    files = glob.glob(f'{src_base_dir}/{ds_name}/part-*')\n",
    "\n",
    "    for file in files:\n",
    "        # FILE NAME\n",
    "        file_name = get_filename_from_path(file)\n",
    "\n",
    "        # COLUMNS\n",
    "        column_names = get_column_name(schemas, file_name)\n",
    "\n",
    "        # TO DF\n",
    "        df = read_df(file_path, column_names)\n",
    "\n",
    "        # TARGET FILE LOC\n",
    "        json_file_path = generate_target_destination(tgt_bae_dir, file_name, 'json')\n",
    "\n",
    "        # DF TO JSON\n",
    "        status = generate_json_doc(df, json_file_path)\n",
    "\n",
    "        if status:\n",
    "            print(f'{file_name}.json created!')\n"
   ]
  },
  {
   "cell_type": "code",
   "execution_count": 45,
   "metadata": {},
   "outputs": [
    {
     "name": "stdout",
     "output_type": "stream",
     "text": [
      "orders.json created!\n"
     ]
    }
   ],
   "source": [
    "csv_to_json_converter('orders')"
   ]
  },
  {
   "cell_type": "code",
   "execution_count": 46,
   "metadata": {},
   "outputs": [
    {
     "name": "stdout",
     "output_type": "stream",
     "text": [
      "categories.json created!\n"
     ]
    }
   ],
   "source": [
    "csv_to_json_converter('categories')"
   ]
  }
 ],
 "metadata": {
  "kernelspec": {
   "display_name": "dbEnv",
   "language": "python",
   "name": "python3"
  },
  "language_info": {
   "codemirror_mode": {
    "name": "ipython",
    "version": 3
   },
   "file_extension": ".py",
   "mimetype": "text/x-python",
   "name": "python",
   "nbconvert_exporter": "python",
   "pygments_lexer": "ipython3",
   "version": "3.11.7"
  }
 },
 "nbformat": 4,
 "nbformat_minor": 2
}
